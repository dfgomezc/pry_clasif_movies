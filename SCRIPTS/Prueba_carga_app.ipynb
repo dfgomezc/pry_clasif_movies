{
 "cells": [
  {
   "cell_type": "code",
   "execution_count": null,
   "metadata": {},
   "outputs": [],
   "source": [
    "import pickle\n",
    "'../OUTPUT/MODELS/RN_base_DG_cv.bin'\n",
    "\n",
    "pickle.load"
   ]
  }
 ],
 "metadata": {
  "language_info": {
   "name": "python"
  },
  "orig_nbformat": 4
 },
 "nbformat": 4,
 "nbformat_minor": 2
}
